{
 "cells": [
  {
   "cell_type": "markdown",
   "metadata": {},
   "source": [
    "# Treasure Hunt Game Notebook\n",
    "\n",
    "## Read and Review Your Starter Code\n",
    "The theme of this project is a popular treasure hunt game in which the player needs to find the treasure before the pirate does. While you will not be developing the entire game, you will write the part of the game that represents the intelligent agent, which is a pirate in this case. The pirate will try to find the optimal path to the treasure using deep Q-learning. \n",
    "\n",
    "You have been provided with two Python classes and this notebook to help you with this assignment. The first class, TreasureMaze.py, represents the environment, which includes a maze object defined as a matrix. The second class, GameExperience.py, stores the episodes – that is, all the states that come in between the initial state and the terminal state. This is later used by the agent for learning by experience, called \"exploration\". This notebook shows how to play a game. Your task is to complete the deep Q-learning implementation for which a skeleton implementation has been provided. The code blocks you will need to complete has #TODO as a header.\n",
    "\n",
    "First, read and review the next few code and instruction blocks to understand the code that you have been given."
   ]
  },
  {
   "cell_type": "code",
   "execution_count": 30,
   "metadata": {},
   "outputs": [],
   "source": [
    "from __future__ import print_function\n",
    "import os, sys, time, datetime, json, random\n",
    "import numpy as np\n",
    "from keras.models import Sequential\n",
    "from keras.layers.core import Dense, Activation\n",
    "from keras.optimizers import SGD , Adam, RMSprop\n",
    "from keras.layers.advanced_activations import PReLU\n",
    "import matplotlib.pyplot as plt\n",
    "from TreasureMaze import TreasureMaze\n",
    "from GameExperience import GameExperience\n",
    "%matplotlib inline"
   ]
  },
  {
   "cell_type": "markdown",
   "metadata": {},
   "source": [
    "The following code block contains an 8x8 matrix that will be used as a maze object:"
   ]
  },
  {
   "cell_type": "code",
   "execution_count": 31,
   "metadata": {},
   "outputs": [],
   "source": [
    "maze = np.array([\n",
    "    [ 1.,  0.,  1.,  1.,  1.,  1.,  1.,  1.],\n",
    "    [ 1.,  0.,  1.,  1.,  1.,  0.,  1.,  1.],\n",
    "    [ 1.,  1.,  1.,  1.,  0.,  1.,  0.,  1.],\n",
    "    [ 1.,  1.,  1.,  0.,  1.,  1.,  1.,  1.],\n",
    "    [ 1.,  1.,  0.,  1.,  1.,  1.,  1.,  1.],\n",
    "    [ 1.,  1.,  1.,  0.,  1.,  0.,  0.,  0.],\n",
    "    [ 1.,  1.,  1.,  0.,  1.,  1.,  1.,  1.],\n",
    "    [ 1.,  1.,  1.,  1.,  0.,  1.,  1.,  1.]\n",
    "])"
   ]
  },
  {
   "cell_type": "markdown",
   "metadata": {},
   "source": [
    "This helper function allows a visual representation of the maze object:"
   ]
  },
  {
   "cell_type": "code",
   "execution_count": 32,
   "metadata": {},
   "outputs": [],
   "source": [
    "def show(qmaze):\n",
    "    plt.grid('on')\n",
    "    nrows, ncols = qmaze.maze.shape\n",
    "    ax = plt.gca()\n",
    "    ax.set_xticks(np.arange(0.5, nrows, 1))\n",
    "    ax.set_yticks(np.arange(0.5, ncols, 1))\n",
    "    ax.set_xticklabels([])\n",
    "    ax.set_yticklabels([])\n",
    "    canvas = np.copy(qmaze.maze)\n",
    "    for row,col in qmaze.visited:\n",
    "        canvas[row,col] = 0.6\n",
    "    pirate_row, pirate_col, _ = qmaze.state\n",
    "    canvas[pirate_row, pirate_col] = 0.3   # pirate cell\n",
    "    canvas[nrows-1, ncols-1] = 0.9 # treasure cell\n",
    "    img = plt.imshow(canvas, interpolation='none', cmap='gray')\n",
    "    return img"
   ]
  },
  {
   "cell_type": "markdown",
   "metadata": {},
   "source": [
    "The pirate agent can move in four directions: left, right, up, and down. \n",
    "\n",
    "While the agent primarily learns by experience through exploitation, often, the agent can choose to explore the environment to find previously undiscovered paths. This is called \"exploration\" and is defined by epsilon. This value is typically a lower value such as 0.1, which means for every ten attempts, the agent will attempt to learn by experience nine times and will randomly explore a new path one time. You are encouraged to try various values for the exploration factor and see how the algorithm performs."
   ]
  },
  {
   "cell_type": "code",
   "execution_count": 33,
   "metadata": {},
   "outputs": [],
   "source": [
    "LEFT = 0\n",
    "UP = 1\n",
    "RIGHT = 2\n",
    "DOWN = 3\n",
    "\n",
    "\n",
    "# Exploration factor\n",
    "epsilon = 0.1\n",
    "\n",
    "# Actions dictionary\n",
    "actions_dict = {\n",
    "    LEFT: 'left',\n",
    "    UP: 'up',\n",
    "    RIGHT: 'right',\n",
    "    DOWN: 'down',\n",
    "}\n",
    "\n",
    "num_actions = len(actions_dict)\n"
   ]
  },
  {
   "cell_type": "markdown",
   "metadata": {},
   "source": [
    "The sample code block and output below show creating a maze object and performing one action (DOWN), which returns the reward. The resulting updated environment is visualized."
   ]
  },
  {
   "cell_type": "code",
   "execution_count": 34,
   "metadata": {},
   "outputs": [
    {
     "name": "stdout",
     "output_type": "stream",
     "text": [
      "reward= -0.04\n"
     ]
    },
    {
     "data": {
      "text/plain": [
       "<matplotlib.image.AxesImage at 0x15df9cfc748>"
      ]
     },
     "execution_count": 34,
     "metadata": {},
     "output_type": "execute_result"
    },
    {
     "data": {
      "image/png": "[encoded data removed]",
      "text/plain": [
       "<Figure size 432x288 with 1 Axes>"
      ]
     },
     "metadata": {
      "needs_background": "light"
     },
     "output_type": "display_data"
    }
   ],
   "source": [
    "qmaze = TreasureMaze(maze)\n",
    "canvas, reward, game_over = qmaze.act(DOWN)\n",
    "print(\"reward=\", reward)\n",
    "show(qmaze)"
   ]
  },
  {
   "cell_type": "markdown",
   "metadata": {},
   "source": [
    "This function simulates a full game based on the provided trained model. The other parameters include the TreasureMaze object and the starting position of the pirate."
   ]
  },
  {
   "cell_type": "code",
   "execution_count": 35,
   "metadata": {},
   "outputs": [],
   "source": [
    "def play_game(model, qmaze, pirate_cell):\n",
    "    qmaze.reset(pirate_cell)\n",
    "    envstate = qmaze.observe()\n",
    "    while True:\n",
    "        prev_envstate = envstate\n",
    "        # get next action\n",
    "        q = model.predict(prev_envstate)\n",
    "        action = np.argmax(q[0])\n",
    "\n",
    "        # apply action, get rewards and new state\n",
    "        envstate, reward, game_status = qmaze.act(action)\n",
    "        if game_status == 'win':\n",
    "            return True\n",
    "        elif game_status == 'lose':\n",
    "            return False"
   ]
  },
  {
   "cell_type": "markdown",
   "metadata": {},
   "source": [
    "This function helps you to determine whether the pirate can win any game at all. If your maze is not well designed, the pirate may not win any game at all. In this case, your training would not yield any result. The provided maze in this notebook ensures that there is a path to win and you can run this method to check."
   ]
  },
  {
   "cell_type": "code",
   "execution_count": 36,
   "metadata": {},
   "outputs": [],
   "source": [
    "def completion_check(model, qmaze):\n",
    "    for cell in qmaze.free_cells:\n",
    "        if not qmaze.valid_actions(cell):\n",
    "            return False\n",
    "        if not play_game(model, qmaze, cell):\n",
    "            return False\n",
    "    return True"
   ]
  },
  {
   "cell_type": "markdown",
   "metadata": {},
   "source": [
    "The code you have been given in this block will build the neural network model. Review the code and note the number of layers, as well as the activation, optimizer, and loss functions that are used to train the model."
   ]
  },
  {
   "cell_type": "code",
   "execution_count": 37,
   "metadata": {},
   "outputs": [],
   "source": [
    "def build_model(maze):\n",
    "    model = Sequential()\n",
    "    model.add(Dense(maze.size, input_shape=(maze.size,)))\n",
    "    model.add(PReLU())\n",
    "    model.add(Dense(maze.size))\n",
    "    model.add(PReLU())\n",
    "    model.add(Dense(num_actions))\n",
    "    model.compile(optimizer='adam', loss='mse')\n",
    "    return model"
   ]
  },
  {
   "cell_type": "markdown",
   "metadata": {},
   "source": [
    "# #TODO: Complete the Q-Training Algorithm Code Block\n",
    "\n",
    "This is your deep Q-learning implementation. The goal of your deep Q-learning implementation is to find the best possible navigation sequence that results in reaching the treasure cell while maximizing the reward. In your implementation, you need to determine the optimal number of epochs to achieve a 100% win rate.\n",
    "\n",
    "You will need to complete the section starting with #pseudocode. The pseudocode has been included for you."
   ]
  },
  {
   "cell_type": "code",
   "execution_count": 38,
   "metadata": {},
   "outputs": [],
   "source": [
    "def qtrain(model, maze, **opt):\n",
    "\n",
    "    # exploration factor\n",
    "    global epsilon \n",
    "\n",
    "    # number of epochs\n",
    "    n_epoch = opt.get('n_epoch', 100)\n",
    "\n",
    "    # maximum memory to store episodes\n",
    "    max_memory = opt.get('max_memory', 1000)\n",
    "\n",
    "    # maximum data size for training\n",
    "    data_size = opt.get('data_size', 50)\n",
    "\n",
    "    # start time\n",
    "    start_time = datetime.datetime.now()\n",
    "\n",
    "    # Construct environment/game from numpy array: maze (see above)\n",
    "    qmaze = TreasureMaze(maze)\n",
    "\n",
    "    # Initialize experience replay object\n",
    "    experience = GameExperience(model, max_memory=max_memory)\n",
    "    \n",
    "    win_history = []   # history of win/lose game\n",
    "    hsize = qmaze.maze.size//2   # history window size\n",
    "    win_rate = 0.0\n",
    "    \n",
    "    # pseudocode:\n",
    "    # For each epoch:\n",
    "    #    Agent_cell = randomly select a free cell\n",
    "    #    Reset the maze with agent set to above position\n",
    "    #    Hint: Review the reset method in the TreasureMaze.py class.\n",
    "    #    envstate = Environment.current_state\n",
    "    #    Hint: Review the observe method in the TreasureMaze.py class.\n",
    "    #    While state is not game over:\n",
    "    #        previous_envstate = envstate\n",
    "    #        Action = randomly choose action (left, right, up, down) either by exploration or by exploitation\n",
    "    #        envstate, reward, game_status = qmaze.act(action)\n",
    "    #    Hint: Review the act method in the TreasureMaze.py class.\n",
    "    #        episode = [previous_envstate, action, reward, envstate, game_status]\n",
    "    #        Store episode in Experience replay object\n",
    "    #    Hint: Review the remember method in the GameExperience.py class.\n",
    "    #        Train neural network model and evaluate loss\n",
    "    #    Hint: Call GameExperience.get_data to retrieve training data (input and target) and pass to model.fit method \n",
    "    #          to train the model. You can call model.evaluate to determine loss.\n",
    "    #    If the win rate is above the threshold and your model passes the completion check, that would be your epoch.\n",
    "    \n",
    "    for epoch in range(n_epoch):\n",
    "        n_episodes = 0\n",
    "\n",
    "        # Agent_cell = randomly select a free cell\n",
    "        agent_cell = random.choice(qmaze.free_cells)\n",
    "\n",
    "        # Reset the maze with agent set to above position\n",
    "        qmaze.reset(pirate=agent_cell)\n",
    "\n",
    "        # envstate = Environment.current_state\n",
    "        envstate = qmaze.observe()\n",
    "\n",
    "        # While state is not game over:\n",
    "        game_over = False\n",
    "        while not game_over:\n",
    "            previous_envstate = envstate\n",
    "\n",
    "            # Action = randomly choose action (left, right, up, down) by exploration or exploitation\n",
    "            if np.random.rand() < epsilon:\n",
    "                action = np.random.choice(qmaze.valid_actions())\n",
    "            else:\n",
    "                q_values = experience.predict(envstate)\n",
    "                action = np.argmax(q_values)\n",
    "\n",
    "            # envstate, reward, game_status = qmaze.act(action)\n",
    "            envstate, reward, game_status = qmaze.act(action)\n",
    "            game_over = (game_status != 'not_over')\n",
    "\n",
    "            # episode = [previous_envstate, action, reward, envstate, game_status]\n",
    "            episode = [previous_envstate, action, reward, envstate, game_over]\n",
    "\n",
    "            # Store episode in Experience replay object\n",
    "            experience.remember(episode)\n",
    "\n",
    "            # Train neural network model and evaluate loss\n",
    "            inputs, targets = experience.get_data(data_size=data_size)\n",
    "            history = model.fit(inputs, targets, epochs=1, verbose=0)\n",
    "            loss = history.history['loss'][0]\n",
    "\n",
    "            n_episodes += 1\n",
    "\n",
    "        # Record win history\n",
    "        win = 1 if game_status == 'win' else 0\n",
    "        win_history.append(win)\n",
    "        win_rate = sum(win_history[-50:]) / max(1, len(win_history[-50:]))\n",
    "\n",
    "    #Print the epoch, loss, episodes, win count, and win rate for each epoch\n",
    "        dt = datetime.datetime.now() - start_time\n",
    "        t = format_time(dt.total_seconds())\n",
    "        template = \"Epoch: {:03d}/{:d} | Loss: {:.4f} | Episodes: {:d} | Win count: {:d} | Win rate: {:.3f} | time: {}\"\n",
    "        print(template.format(epoch, n_epoch-1, loss, n_episodes, sum(win_history), win_rate, t))\n",
    "        # We simply check if training has exhausted all free cells and if in all\n",
    "        # cases the agent won.\n",
    "        if win_rate > 0.9 : epsilon = 0.05\n",
    "        if sum(win_history[-hsize:]) == hsize and completion_check(model, qmaze):\n",
    "            print(\"Reached 100%% win rate at epoch: %d\" % (epoch,))\n",
    "            break\n",
    "    \n",
    "    \n",
    "    # Determine the total time for training\n",
    "    dt = datetime.datetime.now() - start_time\n",
    "    seconds = dt.total_seconds()\n",
    "    t = format_time(seconds)\n",
    "\n",
    "    print(\"n_epoch: %d, max_mem: %d, data: %d, time: %s\" % (epoch, max_memory, data_size, t))\n",
    "    return seconds\n",
    "\n",
    "# This is a small utility for printing readable time strings:\n",
    "def format_time(seconds):\n",
    "    if seconds < 400:\n",
    "        s = float(seconds)\n",
    "        return \"%.1f seconds\" % (s,)\n",
    "    elif seconds < 4000:\n",
    "        m = seconds / 60.0\n",
    "        return \"%.2f minutes\" % (m,)\n",
    "    else:\n",
    "        h = seconds / 3600.0\n",
    "        return \"%.2f hours\" % (h,)"
   ]
  },
  {
   "cell_type": "markdown",
   "metadata": {},
   "source": [
    "## Test Your Model\n",
    "\n",
    "Now we will start testing the deep Q-learning implementation. To begin, select **Cell**, then **Run All** from the menu bar. This will run your notebook. As it runs, you should see output begin to appear beneath the next few cells. The code below creates an instance of TreasureMaze."
   ]
  },
  {
   "cell_type": "code",
   "execution_count": 39,
   "metadata": {},
   "outputs": [
    {
     "data": {
      "text/plain": [
       "<matplotlib.image.AxesImage at 0x15df9cf13c8>"
      ]
     },
     "execution_count": 39,
     "metadata": {},
     "output_type": "execute_result"
    },
    {
     "data": {
      "image/png": "[encoded data removed]",
      "text/plain": [
       "<Figure size 432x288 with 1 Axes>"
      ]
     },
     "metadata": {
      "needs_background": "light"
     },
     "output_type": "display_data"
    }
   ],
   "source": [
    "qmaze = TreasureMaze(maze)\n",
    "show(qmaze)"
   ]
  },
  {
   "cell_type": "markdown",
   "metadata": {},
   "source": [
    "In the next code block, you will build your model and train it using deep Q-learning. Note: This step takes several minutes to fully run."
   ]
  },
  {
   "cell_type": "code",
   "execution_count": 40,
   "metadata": {},
   "outputs": [
    {
     "name": "stdout",
     "output_type": "stream",
     "text": [
      "Epoch: 000/99 | Loss: 0.0686 | Episodes: 145 | Win count: 0 | Win rate: 0.000 | time: 12.5 seconds\n",
      "Epoch: 001/99 | Loss: 0.0011 | Episodes: 140 | Win count: 0 | Win rate: 0.000 | time: 23.8 seconds\n",
      "Epoch: 002/99 | Loss: 0.0009 | Episodes: 141 | Win count: 0 | Win rate: 0.000 | time: 34.5 seconds\n",
      "Epoch: 003/99 | Loss: 0.0414 | Episodes: 146 | Win count: 0 | Win rate: 0.000 | time: 45.4 seconds\n",
      "Epoch: 004/99 | Loss: 0.0495 | Episodes: 143 | Win count: 0 | Win rate: 0.000 | time: 56.5 seconds\n",
      "Epoch: 005/99 | Loss: 0.0024 | Episodes: 142 | Win count: 0 | Win rate: 0.000 | time: 67.5 seconds\n",
      "Epoch: 006/99 | Loss: 0.0021 | Episodes: 143 | Win count: 0 | Win rate: 0.000 | time: 79.1 seconds\n",
      "Epoch: 007/99 | Loss: 0.0013 | Episodes: 148 | Win count: 0 | Win rate: 0.000 | time: 90.7 seconds\n",
      "Epoch: 008/99 | Loss: 0.0022 | Episodes: 148 | Win count: 0 | Win rate: 0.000 | time: 102.0 seconds\n",
      "Epoch: 009/99 | Loss: 0.0028 | Episodes: 142 | Win count: 0 | Win rate: 0.000 | time: 113.4 seconds\n",
      "Epoch: 010/99 | Loss: 0.0027 | Episodes: 145 | Win count: 0 | Win rate: 0.000 | time: 125.0 seconds\n",
      "Epoch: 011/99 | Loss: 0.0016 | Episodes: 136 | Win count: 0 | Win rate: 0.000 | time: 137.1 seconds\n",
      "Epoch: 012/99 | Loss: 0.0037 | Episodes: 153 | Win count: 0 | Win rate: 0.000 | time: 149.9 seconds\n",
      "Epoch: 013/99 | Loss: 0.0031 | Episodes: 137 | Win count: 0 | Win rate: 0.000 | time: 160.7 seconds\n",
      "Epoch: 014/99 | Loss: 0.0772 | Episodes: 61 | Win count: 1 | Win rate: 0.067 | time: 165.4 seconds\n",
      "Epoch: 015/99 | Loss: 0.0371 | Episodes: 146 | Win count: 1 | Win rate: 0.062 | time: 178.8 seconds\n",
      "Epoch: 016/99 | Loss: 0.0023 | Episodes: 147 | Win count: 1 | Win rate: 0.059 | time: 192.1 seconds\n",
      "Epoch: 017/99 | Loss: 0.0022 | Episodes: 139 | Win count: 1 | Win rate: 0.056 | time: 205.2 seconds\n",
      "Epoch: 018/99 | Loss: 0.0017 | Episodes: 140 | Win count: 1 | Win rate: 0.053 | time: 216.8 seconds\n",
      "Epoch: 019/99 | Loss: 0.0021 | Episodes: 148 | Win count: 1 | Win rate: 0.050 | time: 229.2 seconds\n",
      "Epoch: 020/99 | Loss: 0.0029 | Episodes: 146 | Win count: 1 | Win rate: 0.048 | time: 241.6 seconds\n",
      "Epoch: 021/99 | Loss: 0.0026 | Episodes: 112 | Win count: 2 | Win rate: 0.091 | time: 250.9 seconds\n",
      "Epoch: 022/99 | Loss: 0.1358 | Episodes: 135 | Win count: 2 | Win rate: 0.087 | time: 261.6 seconds\n",
      "Epoch: 023/99 | Loss: 0.0019 | Episodes: 107 | Win count: 3 | Win rate: 0.125 | time: 270.3 seconds\n",
      "Epoch: 024/99 | Loss: 0.0027 | Episodes: 140 | Win count: 3 | Win rate: 0.120 | time: 281.3 seconds\n",
      "Epoch: 025/99 | Loss: 0.0013 | Episodes: 149 | Win count: 3 | Win rate: 0.115 | time: 293.5 seconds\n",
      "Epoch: 026/99 | Loss: 0.0015 | Episodes: 147 | Win count: 3 | Win rate: 0.111 | time: 305.8 seconds\n",
      "Epoch: 027/99 | Loss: 0.0013 | Episodes: 138 | Win count: 3 | Win rate: 0.107 | time: 317.4 seconds\n",
      "Epoch: 028/99 | Loss: 0.0881 | Episodes: 141 | Win count: 3 | Win rate: 0.103 | time: 329.1 seconds\n",
      "Epoch: 029/99 | Loss: 0.1484 | Episodes: 117 | Win count: 4 | Win rate: 0.133 | time: 338.8 seconds\n",
      "Epoch: 030/99 | Loss: 0.0014 | Episodes: 148 | Win count: 4 | Win rate: 0.129 | time: 351.1 seconds\n",
      "Epoch: 031/99 | Loss: 0.0019 | Episodes: 148 | Win count: 4 | Win rate: 0.125 | time: 364.4 seconds\n",
      "Epoch: 032/99 | Loss: 0.0506 | Episodes: 3 | Win count: 5 | Win rate: 0.152 | time: 364.7 seconds\n",
      "Epoch: 033/99 | Loss: 0.0017 | Episodes: 138 | Win count: 5 | Win rate: 0.147 | time: 377.0 seconds\n",
      "Epoch: 034/99 | Loss: 0.0499 | Episodes: 140 | Win count: 5 | Win rate: 0.143 | time: 388.2 seconds\n",
      "Epoch: 035/99 | Loss: 0.0010 | Episodes: 138 | Win count: 5 | Win rate: 0.139 | time: 399.8 seconds\n",
      "Epoch: 036/99 | Loss: 0.1558 | Episodes: 41 | Win count: 6 | Win rate: 0.162 | time: 6.72 minutes\n",
      "Epoch: 037/99 | Loss: 0.0030 | Episodes: 150 | Win count: 6 | Win rate: 0.158 | time: 6.92 minutes\n",
      "Epoch: 038/99 | Loss: 0.0716 | Episodes: 146 | Win count: 6 | Win rate: 0.154 | time: 7.12 minutes\n",
      "Epoch: 039/99 | Loss: 0.0835 | Episodes: 150 | Win count: 6 | Win rate: 0.150 | time: 7.32 minutes\n",
      "Epoch: 040/99 | Loss: 0.0042 | Episodes: 144 | Win count: 6 | Win rate: 0.146 | time: 7.52 minutes\n",
      "Epoch: 041/99 | Loss: 0.0033 | Episodes: 143 | Win count: 6 | Win rate: 0.143 | time: 7.71 minutes\n",
      "Epoch: 042/99 | Loss: 0.0009 | Episodes: 136 | Win count: 6 | Win rate: 0.140 | time: 7.93 minutes\n",
      "Epoch: 043/99 | Loss: 0.0014 | Episodes: 144 | Win count: 6 | Win rate: 0.136 | time: 8.11 minutes\n",
      "Epoch: 044/99 | Loss: 0.0021 | Episodes: 152 | Win count: 6 | Win rate: 0.133 | time: 8.31 minutes\n",
      "Epoch: 045/99 | Loss: 0.0022 | Episodes: 145 | Win count: 6 | Win rate: 0.130 | time: 8.54 minutes\n",
      "Epoch: 046/99 | Loss: 0.0849 | Episodes: 155 | Win count: 6 | Win rate: 0.128 | time: 8.79 minutes\n",
      "Epoch: 047/99 | Loss: 0.0017 | Episodes: 74 | Win count: 7 | Win rate: 0.146 | time: 8.91 minutes\n",
      "Epoch: 048/99 | Loss: 0.1063 | Episodes: 143 | Win count: 7 | Win rate: 0.143 | time: 9.13 minutes\n",
      "Epoch: 049/99 | Loss: 0.0012 | Episodes: 136 | Win count: 7 | Win rate: 0.140 | time: 9.35 minutes\n",
      "Epoch: 050/99 | Loss: 0.0545 | Episodes: 139 | Win count: 7 | Win rate: 0.140 | time: 9.53 minutes\n",
      "Epoch: 051/99 | Loss: 0.0015 | Episodes: 140 | Win count: 7 | Win rate: 0.140 | time: 9.73 minutes\n",
      "Epoch: 052/99 | Loss: 0.0011 | Episodes: 144 | Win count: 7 | Win rate: 0.140 | time: 9.94 minutes\n",
      "Epoch: 053/99 | Loss: 0.0015 | Episodes: 141 | Win count: 7 | Win rate: 0.140 | time: 10.16 minutes\n",
      "Epoch: 054/99 | Loss: 0.0020 | Episodes: 143 | Win count: 7 | Win rate: 0.140 | time: 10.39 minutes\n",
      "Epoch: 055/99 | Loss: 0.0027 | Episodes: 135 | Win count: 7 | Win rate: 0.140 | time: 10.58 minutes\n",
      "Epoch: 056/99 | Loss: 0.0653 | Episodes: 147 | Win count: 7 | Win rate: 0.140 | time: 10.84 minutes\n",
      "Epoch: 057/99 | Loss: 0.0010 | Episodes: 144 | Win count: 7 | Win rate: 0.140 | time: 11.10 minutes\n",
      "Epoch: 058/99 | Loss: 0.0009 | Episodes: 141 | Win count: 7 | Win rate: 0.140 | time: 11.30 minutes\n",
      "Epoch: 059/99 | Loss: 0.0019 | Episodes: 144 | Win count: 7 | Win rate: 0.140 | time: 11.49 minutes\n",
      "Epoch: 060/99 | Loss: 0.0026 | Episodes: 136 | Win count: 7 | Win rate: 0.140 | time: 11.66 minutes\n",
      "Epoch: 061/99 | Loss: 0.0018 | Episodes: 12 | Win count: 8 | Win rate: 0.160 | time: 11.68 minutes\n",
      "Epoch: 062/99 | Loss: 0.0013 | Episodes: 8 | Win count: 9 | Win rate: 0.180 | time: 11.69 minutes\n",
      "Epoch: 063/99 | Loss: 0.0027 | Episodes: 141 | Win count: 9 | Win rate: 0.180 | time: 11.87 minutes\n",
      "Epoch: 064/99 | Loss: 0.0023 | Episodes: 140 | Win count: 9 | Win rate: 0.160 | time: 12.06 minutes\n",
      "Epoch: 065/99 | Loss: 0.0026 | Episodes: 147 | Win count: 9 | Win rate: 0.160 | time: 12.26 minutes\n",
      "Epoch: 066/99 | Loss: 0.1512 | Episodes: 144 | Win count: 9 | Win rate: 0.160 | time: 12.45 minutes\n",
      "Epoch: 067/99 | Loss: 0.0018 | Episodes: 151 | Win count: 9 | Win rate: 0.160 | time: 12.63 minutes\n",
      "Epoch: 068/99 | Loss: 0.0015 | Episodes: 149 | Win count: 9 | Win rate: 0.160 | time: 12.83 minutes\n",
      "Epoch: 069/99 | Loss: 0.0037 | Episodes: 139 | Win count: 9 | Win rate: 0.160 | time: 13.02 minutes\n",
      "Epoch: 070/99 | Loss: 0.0025 | Episodes: 22 | Win count: 10 | Win rate: 0.180 | time: 13.05 minutes\n",
      "Epoch: 071/99 | Loss: 0.0019 | Episodes: 148 | Win count: 10 | Win rate: 0.160 | time: 13.28 minutes\n",
      "Epoch: 072/99 | Loss: 0.0018 | Episodes: 6 | Win count: 11 | Win rate: 0.180 | time: 13.29 minutes\n",
      "Epoch: 073/99 | Loss: 0.0026 | Episodes: 152 | Win count: 11 | Win rate: 0.160 | time: 13.51 minutes\n",
      "Epoch: 074/99 | Loss: 0.0031 | Episodes: 144 | Win count: 11 | Win rate: 0.160 | time: 13.71 minutes\n",
      "Epoch: 075/99 | Loss: 0.0017 | Episodes: 135 | Win count: 11 | Win rate: 0.160 | time: 13.91 minutes\n",
      "Epoch: 076/99 | Loss: 0.0007 | Episodes: 134 | Win count: 11 | Win rate: 0.160 | time: 14.08 minutes\n",
      "Epoch: 077/99 | Loss: 0.0013 | Episodes: 141 | Win count: 11 | Win rate: 0.160 | time: 14.27 minutes\n",
      "Epoch: 078/99 | Loss: 0.0015 | Episodes: 145 | Win count: 11 | Win rate: 0.160 | time: 14.47 minutes\n",
      "Epoch: 079/99 | Loss: 0.0769 | Episodes: 142 | Win count: 11 | Win rate: 0.140 | time: 14.65 minutes\n",
      "Epoch: 080/99 | Loss: 0.0034 | Episodes: 145 | Win count: 11 | Win rate: 0.140 | time: 14.84 minutes\n",
      "Epoch: 081/99 | Loss: 0.0015 | Episodes: 144 | Win count: 11 | Win rate: 0.140 | time: 15.03 minutes\n",
      "Epoch: 082/99 | Loss: 0.0020 | Episodes: 147 | Win count: 11 | Win rate: 0.120 | time: 15.22 minutes\n",
      "Epoch: 083/99 | Loss: 0.0726 | Episodes: 139 | Win count: 11 | Win rate: 0.120 | time: 15.39 minutes\n",
      "Epoch: 084/99 | Loss: 0.0016 | Episodes: 142 | Win count: 11 | Win rate: 0.120 | time: 15.58 minutes\n",
      "Epoch: 085/99 | Loss: 0.0817 | Episodes: 141 | Win count: 11 | Win rate: 0.120 | time: 15.77 minutes\n",
      "Epoch: 086/99 | Loss: 0.0013 | Episodes: 26 | Win count: 12 | Win rate: 0.120 | time: 15.80 minutes\n",
      "Epoch: 087/99 | Loss: 0.0018 | Episodes: 140 | Win count: 12 | Win rate: 0.120 | time: 15.99 minutes\n",
      "Epoch: 088/99 | Loss: 0.0033 | Episodes: 145 | Win count: 12 | Win rate: 0.120 | time: 16.18 minutes\n",
      "Epoch: 089/99 | Loss: 0.0018 | Episodes: 146 | Win count: 12 | Win rate: 0.120 | time: 16.38 minutes\n",
      "Epoch: 090/99 | Loss: 0.0018 | Episodes: 150 | Win count: 12 | Win rate: 0.120 | time: 16.60 minutes\n",
      "Epoch: 091/99 | Loss: 0.0010 | Episodes: 151 | Win count: 12 | Win rate: 0.120 | time: 16.80 minutes\n",
      "Epoch: 092/99 | Loss: 0.0017 | Episodes: 148 | Win count: 12 | Win rate: 0.120 | time: 16.99 minutes\n",
      "Epoch: 093/99 | Loss: 0.0558 | Episodes: 153 | Win count: 12 | Win rate: 0.120 | time: 17.18 minutes\n",
      "Epoch: 094/99 | Loss: 0.0674 | Episodes: 145 | Win count: 12 | Win rate: 0.120 | time: 17.37 minutes\n",
      "Epoch: 095/99 | Loss: 0.0022 | Episodes: 155 | Win count: 12 | Win rate: 0.120 | time: 17.56 minutes\n",
      "Epoch: 096/99 | Loss: 0.0018 | Episodes: 142 | Win count: 12 | Win rate: 0.120 | time: 17.73 minutes\n",
      "Epoch: 097/99 | Loss: 0.0020 | Episodes: 147 | Win count: 12 | Win rate: 0.100 | time: 17.91 minutes\n",
      "Epoch: 098/99 | Loss: 0.0021 | Episodes: 139 | Win count: 12 | Win rate: 0.100 | time: 18.09 minutes\n",
      "Epoch: 099/99 | Loss: 0.0023 | Episodes: 95 | Win count: 13 | Win rate: 0.120 | time: 18.21 minutes\n",
      "n_epoch: 99, max_mem: 512, data: 32, time: 18.21 minutes\n"
     ]
    },
    {
     "data": {
      "text/plain": [
       "1092.588398"
      ]
     },
     "execution_count": 40,
     "metadata": {},
     "output_type": "execute_result"
    }
   ],
   "source": [
    "model = build_model(maze)\n",
    "qtrain(model, maze, epochs=1000, max_memory=8*maze.size, data_size=32)"
   ]
  },
  {
   "cell_type": "markdown",
   "metadata": {},
   "source": [
    "This cell will check to see if the model passes the completion check. Note: This could take several minutes."
   ]
  },
  {
   "cell_type": "code",
   "execution_count": 41,
   "metadata": {},
   "outputs": [
    {
     "data": {
      "text/plain": [
       "<matplotlib.image.AxesImage at 0x15df11d28c8>"
      ]
     },
     "execution_count": 41,
     "metadata": {},
     "output_type": "execute_result"
    },
    {
     "data": {
      "image/png": "[encoded data removed]",
      "text/plain": [
       "<Figure size 432x288 with 1 Axes>"
      ]
     },
     "metadata": {
      "needs_background": "light"
     },
     "output_type": "display_data"
    }
   ],
   "source": [
    "completion_check(model, qmaze)\n",
    "show(qmaze)"
   ]
  },
  {
   "cell_type": "markdown",
   "metadata": {},
   "source": [
    "This cell will test your model for one game. It will start the pirate at the top-left corner and run play_game. The agent should find a path from the starting position to the target (treasure). The treasure is located in the bottom-right corner."
   ]
  },
  {
   "cell_type": "code",
   "execution_count": 42,
   "metadata": {},
   "outputs": [
    {
     "data": {
      "text/plain": [
       "<matplotlib.image.AxesImage at 0x15df13fe148>"
      ]
     },
     "execution_count": 42,
     "metadata": {},
     "output_type": "execute_result"
    },
    {
     "data": {
      "image/png": "[encoded data removed]",
      "text/plain": [
       "<Figure size 432x288 with 1 Axes>"
      ]
     },
     "metadata": {
      "needs_background": "light"
     },
     "output_type": "display_data"
    }
   ],
   "source": [
    "pirate_start = (0, 0)\n",
    "play_game(model, qmaze, pirate_start)\n",
    "show(qmaze)"
   ]
  },
  {
   "cell_type": "markdown",
   "metadata": {},
   "source": [
    "## Save and Submit Your Work\n",
    "After you have finished creating the code for your notebook, save your work. Make sure that your notebook contains your name in the filename (e.g. Doe_Jane_ProjectTwo.ipynb). This will help your instructor access and grade your work easily. Download a copy of your IPYNB file and submit it to Brightspace. Refer to the Jupyter Notebook in Apporto Tutorial if you need help with these tasks."
   ]
  }
 ],
 "metadata": {
  "kernelspec": {
   "display_name": "Python 3",
   "language": "python",
   "name": "python3"
  },
  "language_info": {
   "codemirror_mode": {
    "name": "ipython",
    "version": 3
   },
   "file_extension": ".py",
   "mimetype": "text/x-python",
   "name": "python",
   "nbconvert_exporter": "python",
   "pygments_lexer": "ipython3",
   "version": "3.7.4"
  }
 },
 "nbformat": 4,
 "nbformat_minor": 2
}
